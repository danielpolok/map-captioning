{
 "cells": [
  {
   "cell_type": "code",
   "execution_count": 1,
   "metadata": {},
   "outputs": [
    {
     "name": "stderr",
     "output_type": "stream",
     "text": [
      "c:\\Users\\polok\\Documents\\Studies\\Engineering Thesis\\captioning-pipeline\\.venv\\lib\\site-packages\\tqdm\\auto.py:21: TqdmWarning: IProgress not found. Please update jupyter and ipywidgets. See https://ipywidgets.readthedocs.io/en/stable/user_install.html\n",
      "  from .autonotebook import tqdm as notebook_tqdm\n"
     ]
    }
   ],
   "source": [
    "from datasets import load_from_disk\n",
    "from IPython.display import display\n",
    "from pathlib import Path\n",
    "from PIL import Image\n",
    "from io import BytesIO"
   ]
  },
  {
   "cell_type": "code",
   "execution_count": 2,
   "metadata": {},
   "outputs": [],
   "source": [
    "dastaset_preprocessed_dir = Path(\"../../../data/dataset/preprocessed\")\n",
    "\n",
    "dataset = load_from_disk(dastaset_preprocessed_dir)\n",
    "\n",
    "dataset_df = dataset.to_pandas()"
   ]
  },
  {
   "cell_type": "code",
   "execution_count": 3,
   "metadata": {},
   "outputs": [
    {
     "data": {
      "text/html": [
       "<div>\n",
       "<style scoped>\n",
       "    .dataframe tbody tr th:only-of-type {\n",
       "        vertical-align: middle;\n",
       "    }\n",
       "\n",
       "    .dataframe tbody tr th {\n",
       "        vertical-align: top;\n",
       "    }\n",
       "\n",
       "    .dataframe thead th {\n",
       "        text-align: right;\n",
       "    }\n",
       "</style>\n",
       "<table border=\"1\" class=\"dataframe\">\n",
       "  <thead>\n",
       "    <tr style=\"text-align: right;\">\n",
       "      <th></th>\n",
       "      <th>image_encoded</th>\n",
       "      <th>context</th>\n",
       "      <th>prompt</th>\n",
       "    </tr>\n",
       "  </thead>\n",
       "  <tbody>\n",
       "    <tr>\n",
       "      <th>0</th>\n",
       "      <td>iVBORw0KGgoAAAANSUhEUgAAAQAAAAEACAYAAABccqhmAA...</td>\n",
       "      <td>OSM from Amsterdam, Netherlands, Europe of cit...</td>\n",
       "      <td>\"Describe the image in detail. The image is a ...</td>\n",
       "    </tr>\n",
       "    <tr>\n",
       "      <th>1</th>\n",
       "      <td>iVBORw0KGgoAAAANSUhEUgAAAQAAAAEACAYAAABccqhmAA...</td>\n",
       "      <td>OSM from Amsterdam, Netherlands, Europe of cit...</td>\n",
       "      <td>\"Describe the image in detail. The image is a ...</td>\n",
       "    </tr>\n",
       "    <tr>\n",
       "      <th>2</th>\n",
       "      <td>iVBORw0KGgoAAAANSUhEUgAAAQAAAAEACAYAAABccqhmAA...</td>\n",
       "      <td>OSM from Amsterdam, Netherlands, Europe of cit...</td>\n",
       "      <td>\"Describe the image in detail. The image is a ...</td>\n",
       "    </tr>\n",
       "    <tr>\n",
       "      <th>3</th>\n",
       "      <td>iVBORw0KGgoAAAANSUhEUgAAAQAAAAEACAYAAABccqhmAA...</td>\n",
       "      <td>OSM from Amsterdam, Netherlands, Europe of cit...</td>\n",
       "      <td>\"Describe the image in detail. The image is a ...</td>\n",
       "    </tr>\n",
       "    <tr>\n",
       "      <th>4</th>\n",
       "      <td>iVBORw0KGgoAAAANSUhEUgAAAQAAAAEACAYAAABccqhmAA...</td>\n",
       "      <td>OSM from Amsterdam, Netherlands, Europe of cit...</td>\n",
       "      <td>\"Describe the image in detail. The image is a ...</td>\n",
       "    </tr>\n",
       "  </tbody>\n",
       "</table>\n",
       "</div>"
      ],
      "text/plain": [
       "                                       image_encoded  \\\n",
       "0  iVBORw0KGgoAAAANSUhEUgAAAQAAAAEACAYAAABccqhmAA...   \n",
       "1  iVBORw0KGgoAAAANSUhEUgAAAQAAAAEACAYAAABccqhmAA...   \n",
       "2  iVBORw0KGgoAAAANSUhEUgAAAQAAAAEACAYAAABccqhmAA...   \n",
       "3  iVBORw0KGgoAAAANSUhEUgAAAQAAAAEACAYAAABccqhmAA...   \n",
       "4  iVBORw0KGgoAAAANSUhEUgAAAQAAAAEACAYAAABccqhmAA...   \n",
       "\n",
       "                                             context  \\\n",
       "0  OSM from Amsterdam, Netherlands, Europe of cit...   \n",
       "1  OSM from Amsterdam, Netherlands, Europe of cit...   \n",
       "2  OSM from Amsterdam, Netherlands, Europe of cit...   \n",
       "3  OSM from Amsterdam, Netherlands, Europe of cit...   \n",
       "4  OSM from Amsterdam, Netherlands, Europe of cit...   \n",
       "\n",
       "                                              prompt  \n",
       "0  \"Describe the image in detail. The image is a ...  \n",
       "1  \"Describe the image in detail. The image is a ...  \n",
       "2  \"Describe the image in detail. The image is a ...  \n",
       "3  \"Describe the image in detail. The image is a ...  \n",
       "4  \"Describe the image in detail. The image is a ...  "
      ]
     },
     "execution_count": 3,
     "metadata": {},
     "output_type": "execute_result"
    }
   ],
   "source": [
    "dataset_df"
   ]
  }
 ],
 "metadata": {
  "kernelspec": {
   "display_name": ".venv",
   "language": "python",
   "name": "python3"
  },
  "language_info": {
   "codemirror_mode": {
    "name": "ipython",
    "version": 3
   },
   "file_extension": ".py",
   "mimetype": "text/x-python",
   "name": "python",
   "nbconvert_exporter": "python",
   "pygments_lexer": "ipython3",
   "version": "3.10.0"
  }
 },
 "nbformat": 4,
 "nbformat_minor": 2
}
