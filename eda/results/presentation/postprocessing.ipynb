{
 "cells": [
  {
   "cell_type": "code",
   "execution_count": 1,
   "metadata": {},
   "outputs": [
    {
     "name": "stderr",
     "output_type": "stream",
     "text": [
      "c:\\Users\\polok\\Documents\\Studies\\Engineering Thesis\\captioning-pipeline\\.venv\\lib\\site-packages\\tqdm\\auto.py:21: TqdmWarning: IProgress not found. Please update jupyter and ipywidgets. See https://ipywidgets.readthedocs.io/en/stable/user_install.html\n",
      "  from .autonotebook import tqdm as notebook_tqdm\n"
     ]
    }
   ],
   "source": [
    "from datasets import load_from_disk\n",
    "from IPython.display import display\n",
    "from pathlib import Path\n",
    "from PIL import Image\n",
    "from io import BytesIO"
   ]
  },
  {
   "cell_type": "code",
   "execution_count": 22,
   "metadata": {},
   "outputs": [],
   "source": [
    "dastaset_output_dir = Path(\"../../../data/dataset/evaluated\")\n",
    "\n",
    "dataset = load_from_disk(dastaset_output_dir)\n",
    "\n",
    "dataset_df = dataset.to_pandas()"
   ]
  },
  {
   "cell_type": "code",
   "execution_count": 23,
   "metadata": {},
   "outputs": [
    {
     "data": {
      "text/plain": [
       "{'context': {0: '1 highway service, 1 highway path, 1 natural water, 1 landuse forest, 1 highway tertiary.',\n",
       "  1: '1 highway path, 1 natural water, 1 highway track, 3 landuse forests , 1 highway tertiary.'}}"
      ]
     },
     "execution_count": 23,
     "metadata": {},
     "output_type": "execute_result"
    }
   ],
   "source": [
    "dataset_df[['context']].head(2).to_dict()"
   ]
  },
  {
   "cell_type": "code",
   "execution_count": 35,
   "metadata": {},
   "outputs": [
    {
     "name": "stdout",
     "output_type": "stream",
     "text": [
      "['1 amenity bench', '1 amenity parking', '1 building', '1 building commercial', '1 building construction', '1 building industrial', '1 building office', '1 building warehouse', '1 highway cycleway', '1 highway footway', '1 highway path', '1 highway primary', '1 highway residential', '1 highway service', '1 highway tertiary', '1 highway track', '1 highway traffic signals', '1 highway turning circle', '1 highway unclassified', '1 landuse depot', '1 landuse forest', '1 landuse greenfield', '1 landuse industrial', '1 leisure garden', '1 leisure nature reserve', '1 natural scrub', '1 natural water', '1 natural wetland', '1 natural wood', '1 railway switch', '1 tourism information', '1 water canal', '1 waterway canal', '1 waterway ditch', '1 waterway drain', '10 landuse forests ', '11 landuse forests ', '2 amenity parkings ', '2 building warehouses ', '2 buildings ', '2 highway cycleways ', '2 highway paths ', '2 highway primarys ', '2 highway services ', '2 highway tertiarys ', '2 highway tracks ', '2 highway unclassifieds ', '2 landuse forests ', '2 natural waters ', '2 natural woods ', '2 railway buffer stops ', '2 railway switchs ', '2 water canals ', '2 waterway canals ', '3 building industrials ', '3 highway crossings ', '3 highway cycleways ', '3 highway services ', '3 highway tertiarys ', '3 landuse forests ', '3 natural waters ', '3 railway rails ', '4 building constructions ', '4 building warehouses ', '4 highway crossings ', '4 highway primarys ', '4 highway services ', '4 highway unclassifieds ', '4 landuse forests ', '4 natural waters ', '5 highway primarys ', '5 highway services ', '5 highway unclassifieds ', '5 natural waters ', '5 railway rails ', '6 highway primarys ', '6 highway services ', '6 highway tertiarys ', '6 highway traffic signalss ', '6 natural waters ', '6 railway rails ', '8 landuse forests ', '9 highway cycleways ']\n"
     ]
    }
   ],
   "source": [
    "import re\n",
    "# Initialize a set to store unique feature names\n",
    "all_features = set()\n",
    "\n",
    "# Iterate over each record in the dataset\n",
    "for context in dataset['context']:\n",
    "    # Find all features using a regular expression\n",
    "    features = re.findall(r'(\\d+) ([a-zA-Z ]+)', context)\n",
    "    # Add each feature with its amount to the list\n",
    "    for amount, feature in features:\n",
    "        amount = int(amount)  # Convert the amount to an integer\n",
    "        # Remove the plural 's' if amount is greater than 1\n",
    "        feature = feature.strip()\n",
    "        if amount > 1 and feature.endswith('s'):\n",
    "            feature = feature[:-1]\n",
    "        # Append the processed feature with amount to the list\n",
    "        all_features.update([f\"{amount} {feature}\"])\n",
    "\n",
    "\n",
    "# Convert to a sorted list for easier reading\n",
    "all_features = sorted(list(all_features))\n",
    "print(all_features)\n"
   ]
  }
 ],
 "metadata": {
  "kernelspec": {
   "display_name": ".venv",
   "language": "python",
   "name": "python3"
  },
  "language_info": {
   "codemirror_mode": {
    "name": "ipython",
    "version": 3
   },
   "file_extension": ".py",
   "mimetype": "text/x-python",
   "name": "python",
   "nbconvert_exporter": "python",
   "pygments_lexer": "ipython3",
   "version": "3.10.0"
  }
 },
 "nbformat": 4,
 "nbformat_minor": 2
}
